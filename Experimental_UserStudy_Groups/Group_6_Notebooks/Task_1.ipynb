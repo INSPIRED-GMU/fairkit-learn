{
 "cells": [
  {
   "cell_type": "markdown",
   "metadata": {
    "comet_cell_id": "82047317176b1"
   },
   "source": [
    "# Evaluating Machine Learning Models\n",
    "\n",
    "Today, we will use machine learning tools to train models while being careful of model fairness.\n",
    "\n",
    "First, we will use **fairkit-learn** to train and evaluate models using the ProPublica COMPAS Dataset.\n",
    "\n",
    "Next, we will use **scikit-learn** to train and evaluate models using the German Credit Dataset. \n",
    "\n",
    "Finally, we will use **AI Fairness 360** to train and evaluate models using the Adult Census Income Dataset. \n",
    "\n",
    "Along with the provided tooling and resources within this notebook, you will be allowed to use outside resources (e.g. Google) to help you complete this exercise.\n",
    "\n",
    "Please plan to complete the entire exercise in one sitting. Make sure you have time and your computer is plugged into power before you start; you'll be running machine learning algorithms, which will wear your battery down.\n",
    "\n",
    "Responses for this exercise will be entered in the <a href=\"https://form.jotform.com/92474488429169\" target=\"_blank\">Evaluating ML Models Exercise Response Form</a>. You will first be asked some demographic questions then each page that follows maps to each task you complete. You will be expected to enter responses regarding each task and will have to submit for your assignment to be graded.\n",
    "\n",
    "\n",
    "\n",
    "## Models\n",
    "\n",
    "Because there are a variety of models provided by scikit-learn and AI Fairness 360, we will only use a subset for this assignment. The models you will be evaluating are as follows:\n",
    "\n",
    "* **Logistic Regression**: a Machine Learning algorithm which is used for the classification problems, it is a predictive analysis algorithm and based on the concept of probability. [More info here.](https://machinelearningmastery.com/logistic-regression-for-machine-learning/) [Scikit-learn documentation](https://scikit-learn.org/stable/modules/generated/sklearn.linear_model.LogisticRegression.html)\n",
    "* **K Nearest Neighbor Classifier**: a model that classifies data points based on the points that are most similar to it. It uses test data to make an “educated guess” on what an unclassified point should be classified as. [More info here.](https://towardsdatascience.com/machine-learning-basics-with-the-k-nearest-neighbors-algorithm-6a6e71d01761) [Scikit-learn documentation](https://scikit-learn.org/stable/modules/generated/sklearn.neighbors.KNeighborsClassifier.html)\n",
    "* **Random Forest**: an ensemble machine learning algorithm that is used for classification and regression problems. Random forest applies the technique of bagging (bootstrap aggregating) to decision tree learners. [More info here.](https://towardsdatascience.com/understanding-random-forest-58381e0602d2) [Scikit-learn documentation](https://scikit-learn.org/stable/modules/generated/sklearn.ensemble.RandomForestClassifier.html)\n",
    "* **Support Vector Classifier**:  a discriminative classifier formally defined by a separating hyperplane. In other words, given labeled training data (supervised learning), the algorithm outputs an optimal hyperplane which categorizes new examples. In two dimentional space this hyperplane is a line dividing a plane in two parts where in each class lay in either side. [More info here.](https://medium.com/machine-learning-101/chapter-2-svm-support-vector-machine-theory-f0812effc72) [Scikit-learn documentation](https://scikit-learn.org/stable/modules/generated/sklearn.svm.SVC.html)\n",
    "* **Adversarial Debiasing**: learns a classifier to maximize prediction accuracy and simultaneously reduce an adversary's ability to determine the protected attribute from the predictions. [Documentation.](https://aif360.readthedocs.io/en/latest/modules/inprocessing.html#adversarial-debiasing)\n",
    "\n",
    "The Adversarial Debiasing model is only available for use when using AI Fairness 360 or fairkit-learn.\n",
    "\n",
    "\n",
    "## Bias Mitigating Algorithms\n",
    "\n",
    "When using AI Fairness 360 and fairkit-learn, you will have access to the following bias mitigating pre- and post- processing algorithms:\n",
    "\n",
    "* **Pre-processing algorithms**\n",
    "    - *Disparate Impact Remover*: a preprocessing technique that edits feature Values increase group fairness while preserving rank-ordering within groups\n",
    "    - *Reweighing*: a preprocessing technique that Weights the examples in each (group, label) combination differently to ensure fairness before classification\n",
    "    \n",
    "    \n",
    "* **Post-processing algorithms**\n",
    "    - *Calibrated Equalized Odds*: a post-processing technique that optimizes over calibrated classifier score outputs to find probabilities with which to change output labels with an equalized odds objective\n",
    "    - *Reject Option Classification*: a postprocessing technique that gives favorable outcomes to unpriviliged groups and unfavorable outcomes to priviliged groups in a confidence band around the decision boundary with the highest uncertainty \n",
    "\n",
    "\n",
    "## Model Evaluation Metrics\n",
    "\n",
    "To evaluate your trained models, you will be using one or more of the following metrics:\n",
    "\n",
    "* **Performance metrics**:\n",
    "    - *Accuracy Score* (UnifiedMetricLibrary.accuracy_score) When evaluating a model with this metric, the goal is to *maximize* the value.\n",
    "    \n",
    "    \n",
    "* **Fairness Metrics**:\n",
    "    - *Equal Opportunity Difference* (UnifiedMetricLibrary.equal_opportunity_difference) also known as \"true positive rate difference\". When evaluating a model with this metric, the goal is to *minimize* the value.\n",
    "    - *Average Odds Difference* (UnifiedMetricLibrary.average_odds_difference) When evaluating a model with this metric, the goal is to *minimize* the value.\n",
    "    - *Statistical Parity Difference* (UnifiedMetricLibrary.mean_difference) also known as \"mean difference\". When evaluating a model with this metric, the goal is to *minimize* the value.\n",
    "    - *Disparate Impact* (UnifiedMetricLibrary.disparate_impact)  When evaluating a model with this metric, the goal is to *maximize* the value.\n",
    "    \n",
    "    \n",
    "* **Overall Model Quality**:\n",
    "    - *Classifier Quality Score* (classifier_quality_score) When evaluating a model with this metric, the goal is to *maximize* the value."
   ]
  },
  {
   "cell_type": "markdown",
   "metadata": {
    "comet_cell_id": "b4bcefbe0a41f"
   },
   "source": [
    "## Getting started \n",
    "\n",
    "Before beginning task 1, make sure to run the following cell to import all necessary packages. If you need any additional packages, add the import statement(s) to the cell below and re-run the cell before adding and running code that uses the additional packages.\n"
   ]
  },
  {
   "cell_type": "code",
   "execution_count": null,
   "metadata": {
    "comet_cell_id": "2c7cd3e562e7"
   },
   "outputs": [],
   "source": [
    "# Load all necessary packages\n",
    "import numpy as np\n",
    "import sklearn as skl\n",
    "import six\n",
    "import tensorflow as tf\n",
    "\n",
    "# dataset\n",
    "from aif360.datasets import CompasDataset\n",
    "\n",
    "# metrics\n",
    "from fklearn.metric_library import UnifiedMetricLibrary, classifier_quality_score\n",
    "\n",
    "# models\n",
    "from fklearn.scikit_learn_wrapper import LogisticRegression, KNeighborsClassifier, RandomForestClassifier, SVC\n",
    "from aif360.algorithms.inprocessing import AdversarialDebiasing\n",
    "\n",
    "# pre/post-processing algorithms\n",
    "from aif360.algorithms.preprocessing import DisparateImpactRemover, Reweighing\n",
    "from aif360.algorithms.postprocessing import CalibratedEqOddsPostprocessing, RejectOptionClassification\n",
    "\n",
    "# search\n",
    "from fklearn.fair_selection_aif import ModelSearch, DEFAULT_ADB_PARAMS"
   ]
  },
  {
   "cell_type": "markdown",
   "metadata": {
    "comet_cell_id": "46991f420accb"
   },
   "source": [
    "# Tutorial 1: fairkit-learn\n",
    "\n",
    "First, we show you how to train and evaluate models using fairkit-learn. You will use the knowledge from this tutorial to complete Task 1, so please read thoroughly and execute the code cells in order.\n",
    "\n",
    "## Step 1: Import the dataset\n",
    "\n",
    "First we need to import the dataset we will use for training and testing our model.\n",
    "\n",
    "Below, we provide code that imports the COMPAS recidivism dataset. **Note: a warning may pop up when you run this cell. As long as you don't see any errors in the code, it is fine to continue.**"
   ]
  },
  {
   "cell_type": "code",
   "execution_count": null,
   "metadata": {
    "comet_cell_id": "936840797dfba"
   },
   "outputs": [],
   "source": [
    "data_orig = CompasDataset()"
   ]
  },
  {
   "cell_type": "markdown",
   "metadata": {
    "comet_cell_id": "1f7cb8ab1c822"
   },
   "source": [
    "## Step 2: Set protected attributes\n",
    "\n",
    "To use the grid search functionality provided by fairkit-learn, we again need to specify the privileged and unprivileged (protected) attributes. \n",
    "\n",
    "Below we provide code that stores the protected attributes (*race* is 0 for \"Not Caucasian\", *sex* is 0 for \"Male\")."
   ]
  },
  {
   "cell_type": "code",
   "execution_count": null,
   "metadata": {
    "comet_cell_id": "8f3e98f0712d1"
   },
   "outputs": [],
   "source": [
    "unprivileged = [{'race': 0, 'sex': 0}]\n",
    "privileged = [{'race': 1, 'sex': 1}]"
   ]
  },
  {
   "cell_type": "markdown",
   "metadata": {
    "comet_cell_id": "8e6392efce817"
   },
   "source": [
    "## Step 3: Specify parameters for grid search\n",
    "\n",
    "Now we need to specify the various parameters required for the grid search provided by fairkit-learn. Each search parameter is a dictionary of options to include in the search. For each search parameter, you can input one or multiple options to consider. \n",
    "\n",
    "Below we provide code that sets parameters for a simple grid search across different hyper-parameter values for the Logistic Regression model, with and without the specified pre-/post-processing algorithms. We specify all performance and fairness metrics for the search -- given the way the classifier quality score is calculated, this cannot be added to the grid search and will be calculated later."
   ]
  },
  {
   "cell_type": "code",
   "execution_count": null,
   "metadata": {
    "comet_cell_id": "e89b66337a2a6"
   },
   "outputs": [],
   "source": [
    "# we use one model here\n",
    "models = {'LogisticRegression': LogisticRegression}\n",
    "\n",
    "# here we add all the metrics we want to evaluate on (performance and fairness)\n",
    "metrics = {'UnifiedMetricLibrary': [UnifiedMetricLibrary,\n",
    "                                    'accuracy_score',\n",
    "                                    'average_odds_difference',\n",
    "                                    'statistical_parity_difference',\n",
    "                                    'equal_opportunity_difference',\n",
    "                                    'disparate_impact'\n",
    "                                   ]\n",
    "          }\n",
    "\n",
    "# Hyperparameters may either be specified as a dictionary of string to lists, or by an empty dictionary to\n",
    "# use the default ones set by sklearn (or AIF360). The keys are the names of the hyperparameters, and the\n",
    "# values and lists of possible values to form a grid search over (example shown with LogisticRegression)\n",
    "\n",
    "# For the AdversarialDebiasing classifier, you would specify hyperparameters using the following dictionary\n",
    "# entry:\n",
    "# 'AdversarialDebiasing' : DEFAULT_ADB_PARAMS(unprivileged=unprivileged, privileged=privileged)\n",
    "\n",
    "hyperparameters = {'LogisticRegression':{'penalty': ['l1', 'l2'], 'C': [0.1, 0.5, 1]}}\n",
    "\n",
    "# this parameter is needed for the search and does not need to be modified\n",
    "thresholds = [i * 10.0/100 for i in range(5)]\n",
    "\n",
    "# Specify pre/post-processors as a list of initialized AIF360 pre/post-processing instances; \n",
    "# you can also run without any pre/post-processing algorithms (empty list)\n",
    "\n",
    "# Options: DisparateImpactRemover(), Reweighing(unprivileged_groups=unprivileged,privileged_groups=privileged), or both\n",
    "preprocessors=[DisparateImpactRemover()]\n",
    "# Options: CalibratedEqOddsPostprocessing(unprivileged_groups=unprivileged,privileged_groups=privileged), RejectOptionClassification(unprivileged_groups=unprivileged,privileged_groups=privileged), or both\n",
    "postprocessors=[CalibratedEqOddsPostprocessing(unprivileged_groups=unprivileged,privileged_groups=privileged)]\n"
   ]
  },
  {
   "cell_type": "markdown",
   "metadata": {
    "comet_cell_id": "7bba44eb7e995"
   },
   "source": [
    "## Step 4: Run the grid search\n",
    "\n",
    "Now that we've set all the parameters necessary for the grid search, we're ready to run it. The output of the grid search is saved to a .csv file.\n",
    "\n",
    "Below we provide code that creates and uses the `ModelSearch` object to run a grid search over the parameters we specified and saves the output to a .csv file in the specified directory.  **The search take a while to complete. Wait until the search completes before attempting to execute more cells.**\n",
    "\n",
    "**Note: warnings may appear during search, however, as long as you don’t see any code errors it is fine to continue.**"
   ]
  },
  {
   "cell_type": "code",
   "execution_count": null,
   "metadata": {
    "comet_cell_id": "470c3e83a0934"
   },
   "outputs": [],
   "source": [
    "Search = ModelSearch(models, metrics, hyperparameters, thresholds)\n",
    "Search.grid_search(data_orig, privileged=privileged, unprivileged=unprivileged, preprocessors=preprocessors, postprocessors=postprocessors)\n",
    "\n",
    "Search.to_csv(\"fklearn/interface/static/data/test-file.csv\")"
   ]
  },
  {
   "cell_type": "markdown",
   "metadata": {
    "comet_cell_id": "2c6e7f3a299b"
   },
   "source": [
    "## Step 5: Render visualization of search results\n",
    "\n",
    "Along with the ability to run a grid search, fairkit-learn also provides functionality to visualize the results of the grid search. Fairkit-learn uses Bokeh to render a visualization within the notebook, which you can use when completing the next task to explore trained models' performance and fairness.\n",
    "\n",
    "The visualzation includes a graph that plots the search results that are pareto optimal. Each data point in the graph is a model with its own settings (e.g., hyper-parameters, pre/post processing). Each model class has its own color to make it easier to see which models are being shown in the visualization. To get more information on each model's settings, hover over the data point of interest; a tooltip will pop up with model settings.\n",
    "\n",
    "Within the visualization, you can control what metrics and models are being included in the visualization. The drop down menus allow you to specify the x and y axes for the graph. The checklist below the list of models allows you to select which metrics can be considered in the graph.\n",
    "\n",
    "To view the *Pareto frontier* for any two metrics (e.g., accuracy and disparate impact), select those two metrics from the drop down menu and **only** check those boxes in the checklist\n",
    "\n",
    "Below we provide code to load Bokeh and plot the results from the search in the interactive plot."
   ]
  },
  {
   "cell_type": "code",
   "execution_count": null,
   "metadata": {
    "comet_cell_id": "d75c4def39e12"
   },
   "outputs": [],
   "source": [
    "# Import packages for visualization\n",
    "from bokeh.io import output_notebook\n",
    "from bokeh.application.handlers import FunctionHandler\n",
    "from bokeh.application import Application\n",
    "\n",
    "# load Bokeh\n",
    "output_notebook()"
   ]
  },
  {
   "cell_type": "code",
   "execution_count": null,
   "metadata": {
    "comet_cell_id": "2ad7c38dbbfc5"
   },
   "outputs": [],
   "source": [
    "from fklearn.interface.plot import *\n",
    "\n",
    "# Define function that takes in a document and attaches the bokeh server to it\n",
    "def modify_doc(doc):\n",
    "    \n",
    "    # Load custom styles (for notebook only)\n",
    "    custom_css = Div(text=\"<link rel='stylesheet' type='text/css' href='fklearn/interface/static/css/styles-notebook.css'>\")\n",
    "    add_btn = Button(label=\"Add Plot\", button_type=\"success\")\n",
    "    remove_btn = Button(label=\"Remove Plot\", button_type=\"danger\")\n",
    "\n",
    "    # Construct our viewport\n",
    "    l = layout([\n",
    "        [custom_css],\n",
    "        create_plot(\"fklearn/interface/static/data/test-file.csv\")\n",
    "    ], sizing_mode=\"fixed\", css_classes=[\"layout-container\"])\n",
    "\n",
    "    doc.add_root(l)\n",
    "    \n",
    "# Set up the application\n",
    "handler = FunctionHandler(modify_doc)\n",
    "app = Application(handler)\n",
    "\n",
    "# Render visualization in the notebook\n",
    "show(app)"
   ]
  },
  {
   "cell_type": "markdown",
   "metadata": {
    "comet_cell_id": "1b8ebeec276e7"
   },
   "source": [
    "## Step 6: Export visualization (optional)\n",
    "\n",
    "The visualization can be viewed within this notebook and re-rendered as many times as needed, but can also be exported for future viewing and comparison to other plots. You can export the visualization and relevant information by clicking the ``Export Plot`` button in the visualization. \n",
    "\n",
    "This will save create two files: plot.png and plot.json.\n",
    "Plot.png is an image of the plot.\n",
    "Plot.json is a JSON file with the informational bits from the plot, such as what models are being shown and what metrics are selected.\n",
    "\n",
    "Each time the export button is clicked, if plot.png and plot.json exist they are overwritten. If you wish to save plots for comparision, make sure you rename each file after export."
   ]
  },
  {
   "cell_type": "markdown",
   "metadata": {
    "comet_cell_id": "5b86de1c27a81"
   },
   "source": [
    "## Step 7: Evaluate overall model quality\n",
    "\n",
    "Now that we've explored the various model configurations and their performance and fairness, we are ready to select the model(s) that we want to evaluate for overall quality.\n",
    "\n",
    "To do so, you will need to create and train the model(s) (with proper hyperparameters, pre-processing, and post-processing as specified in the search output) you selected and then evaluate overall model quality.\n",
    "\n",
    "Below we provide (commented) code that shows how to intialize the various models and algorithms you have access to. You can use the code provided or modify as you see fit when completing the task.\n"
   ]
  },
  {
   "cell_type": "code",
   "execution_count": null,
   "metadata": {
    "comet_cell_id": "3abfa158b66ed"
   },
   "outputs": [],
   "source": [
    "# split dataset for evaluation\n",
    "# data_orig_train, data_orig_test = data_orig.split([0.7], shuffle=False)\n",
    "\n",
    "# model is populated with default values; modifying parameters is allowed but optional\n",
    "# model = LogisticRegression(penalty='l2', dual=False,tol=0.0001,C=1.0,\n",
    "#                       fit_intercept=True,intercept_scaling=1,class_weight=None,\n",
    "#                       random_state=None,solver='liblinear',max_iter=100, \n",
    "#                       multi_class='warn',verbose=0,warm_start=False,\n",
    "#                       n_jobs=None)\n",
    "\n",
    "#model = KNeighborsClassifier(n_neighbors=5,weights='uniform',algorithm='auto',\n",
    "#                          leaf_size=30,p=2,metric='minkowski',metric_params=None,\n",
    "#                          n_jobs=None)\n",
    "\n",
    "#model = RandomForestClassifier(n_estimators='warn',criterion='gini',max_depth=None,\n",
    "#                            min_samples_leaf=1,min_weight_fraction_leaf=0.0,\n",
    "#                            min_impurity_split=None, bootstrap=True, oob_score=False, n_jobs=None, \n",
    "#                             random_state=None, verbose=0, warm_start=False, class_weight=None)\n",
    "\n",
    "#model = SVC(C=1.0, kernel='rbf', degree=3, gamma='auto_deprecated', coef0=0.0, shrinking=True, \n",
    "#          probability=False, tol=0.001, cache_size=200, class_weight=None, verbose=False, \n",
    "#          max_iter=-1, decision_function_shape='ovr', random_state=None)\n",
    "\n",
    "# If this is not your first time creating the Adversarial Debiasing model, to avoid future errors,\n",
    "# uncomment the code below before running the code that initializing TensorFlow session and model:\n",
    "# sess.close()\n",
    "# tf.reset_default_graph()\n",
    "\n",
    "#sess = tf.Session()\n",
    "#model = AdversarialDebiasing(privileged_groups=privileged,\n",
    "#                          unprivileged_groups=unprivileged,\n",
    "#                          scope_name='debiased_classifier',\n",
    "#                          debias=True,\n",
    "#                          sess=sess)\n",
    "\n",
    "\n",
    "# you can modify repair level (optional)\n",
    "#pre_alg = DisparateImpactRemover(repair_level=1.0)\n",
    "# training data\n",
    "#pre_train_data = pre_alg.fit_transform(data_orig_train)\n",
    "# test data\n",
    "#pre_test_data = pre_alg.fit_transform(data_orig_test)\n",
    "\n",
    "\n",
    "\n",
    "\n",
    "# Reweighing\n",
    "\n",
    "#pre_alg = Reweighing(unprivileged_groups=unprivileged, privileged_groups=privileged)\n",
    "# train\n",
    "#pre_alg = pre_alg.fit(dataset_orig_train)\n",
    "#pre_train_data = pre_alg.transform(data_orig_train)\n",
    "# test\n",
    "#pre_alg = pre_alg.fit(dataset_orig_test)\n",
    "#pre_test_data = pre_alg.transform(data_orig_test)\n",
    "\n",
    "\n",
    "# train model with pre-processed data\n",
    "#model.fit(pre_train_data)\n",
    "\n",
    "# train model with original data \n",
    "# model.fit(data_orig_train)\n",
    "\n",
    "\n",
    "# process trained model\n",
    "# Calibrated Equal Odds\n",
    "#post_alg = CalibratedEqOddsPostprocessing(unprivileged_groups=unprivileged,\n",
    "#                                         privileged_groups=privileged,\n",
    "#                                         cost_constraint='weighted',\n",
    "#                                         seed=None)\n",
    "\n",
    "\n",
    "\n",
    "# Reject Option Classification \n",
    "# With this algorithm, you can specify \"metric_name\" with the metric you want to optimize for.\n",
    "# The options are \"Statistical parity difference\", \"Average odds difference\", or \"Equal opportunity difference\"\n",
    "\n",
    "# post_alg = RejectOptionClassification(unprivileged_groups=unprivileged,\n",
    "#                                      privileged_groups=privileged,\n",
    "#                                      low_class_thresh=0.01,\n",
    "#                                      high_class_thresh=0.99,num_class_thresh=100, \n",
    "#                                      num_ROC_margin=50,metric_name='Statistical parity difference',\n",
    "#                                      metric_ub=0.05, metric_lb=-0.05)\n",
    "\n",
    "\n",
    "\n",
    "# test with pre-processed test data\n",
    "#predictions = model.predict(pre_test_data)\n",
    "\n",
    "# test with original test data\n",
    "# predictions = model.predict(data_orig_test)\n",
    "\n",
    "\n",
    "# fit with post-processing model using pre-processed data\n",
    "#post_model = post_alg.fit(pre_test_data, predictions)\n",
    "\n",
    "# fit with post-processing model using original data\n",
    "# post_model = post_alg.fit(data_orig_test, predictions)\n",
    "\n",
    "\n",
    "\n",
    "# update predictions using post-processed model\n",
    "#predictions = post_model.predict(pre_test_data)\n",
    "\n",
    "# evaluate overall model quality on post-processed model\n",
    "#quality_score = classifier_quality_score(post_model, predictions, \n",
    "#                                             unprivileged_groups=unprivileged, \n",
    "#                                             privileged_groups=privileged)\n",
    "\n",
    "# evaluate overall model quality on model without post-processing\n",
    "#quality_score = classifier_quality_score(model, predictions, \n",
    "#                                             unprivileged_groups=unprivileged, \n",
    "#                                             privileged_groups=privileged)\n",
    "\n",
    "#print(\"Overall quality = \" + str(quality_score))"
   ]
  },
  {
   "cell_type": "markdown",
   "metadata": {
    "comet_cell_id": "f01ce8da8c30d"
   },
   "source": [
    "# Task 1: Model evaluation with fairkit-learn\n",
    "\n",
    "Your turn! Use what you learned in the above tutorial to train and evaluate models for performance, fairness, and overall quality. You will use functionality provided by fairkit-learn to meet the following goals:\n",
    "\n",
    "1. **Describe a model you believe will perform the best (e.g., have the highest accuracy score).** \n",
    "\n",
    "2. **Describe a model you believe will be the most fair, regardless of performance (e.g., minimizes the value of difference fairness metrics or maximizes disparate impact).** \n",
    "\n",
    "3. **Describe a model you believe will best balance both performance and fairness (e.g., have the highest classifier quality score).** \n",
    "\n",
    "Make sure you include any modifications to model hyper-parameters and any pre-/post-processing algorithms used. **As a reminder, there is no \"absolute best\" model for each of the above goals. You are expected to explore the space of model configurations available to find a model that best meets the above goals.**\n",
    "\n",
    "**Keep in mind, training machine learning models is often a time intensive endeavor.** One way you can minimize time to finish this task is to minimize the search space (e.g., number of models included in a single search). You can also minimize time when evaluating the number of times you have to, for example, train a given model to then evaluate it. You can do this by putting the code that initializes and trains your model(s) in its own separate cell and only execute this cell when needed.\n",
    "\n",
    "## Submitting your response \n",
    "\n",
    "Once you feel you've met the above goals, go to the Evaluating ML Models Exercise Response Form to enter your responses under the section labeled 'Task 1'. \n",
    "\n",
    "If you haven't opened/started a response form yet, click <a href=\"https://form.jotform.com/92474488429169\" target=\"_blank\">here</a> to get started.\n",
    "\n",
    "If you accidentally closed your response form, check your email for the link to re-open it."
   ]
  },
  {
   "cell_type": "code",
   "execution_count": 1,
   "metadata": {
    "comet_cell_id": "23c64e4f35267"
   },
   "outputs": [],
   "source": [
    "# TODO : Use this cell to write code for completing task 1\n",
    "\n"
   ]
  },
  {
   "cell_type": "markdown",
   "metadata": {
    "comet_cell_id": "656fbc7fd4794"
   },
   "source": [
    "When you're ready to go on to the next task, open a new tab and click <a href=\"http://localhost:8888/notebooks/Task_2.ipynb\" target=\"_blank\">here</a>."
   ]
  }
 ],
 "metadata": {
  "comet_paths": [
   [
    "4c7b42fa/ML Model Eval Assignment.ipynb",
    1567249528393
   ],
   [
    "008a0d50/Task 1.ipynb",
    1567536844745
   ],
   [
    "008a0d50/Task_1.ipynb",
    1567538584157
   ],
   [
    "7f57d529/Task_1.ipynb",
    1567557189361
   ],
   [
    "7f57d529/Task_3.ipynb",
    1567557229394
   ],
   [
    "7bea0452/Task_3.ipynb",
    1567558603583
   ],
   [
    "7bea0452/Task_2.ipynb",
    1567558791903
   ],
   [
    "7fc86079/Task_2.ipynb",
    1567562984500
   ],
   [
    "7fc86079/Task_1_1.ipynb",
    1567563056960
   ],
   [
    "7fc86079/Task_1.ipynb",
    1567565311806
   ],
   [
    "8c16678a/Task_1.ipynb",
    1567606744235
   ]
  ],
  "comet_tracking": true,
  "kernelspec": {
   "display_name": "Python 3",
   "language": "python",
   "name": "python3"
  },
  "language_info": {
   "codemirror_mode": {
    "name": "ipython",
    "version": 3
   },
   "file_extension": ".py",
   "mimetype": "text/x-python",
   "name": "python",
   "nbconvert_exporter": "python",
   "pygments_lexer": "ipython3",
   "version": "3.7.3"
  }
 },
 "nbformat": 4,
 "nbformat_minor": 2
}
