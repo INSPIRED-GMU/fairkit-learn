{
 "cells": [
  {
   "cell_type": "markdown",
   "metadata": {
    "comet_cell_id": "cc513c063b975"
   },
   "source": [
    "Today, we will use machine learning tools to train models while being careful of model fairness. To begin, please click the following badge to open the notebook in Google CoLabs:\n",
    "[![Open In Colab](https://colab.research.google.com/assets/colab-badge.svg)](https://colab.research.google.com/github/brittjay0104/ml_fairness_exercise/blob/master/Experimental_Groups/Group_1/Task_1.ipynb)"
   ]
  },
  {
   "cell_type": "code",
   "execution_count": null,
   "metadata": {
    "comet_cell_id": "a907546811606"
   },
   "outputs": [],
   "source": []
  }
 ],
 "metadata": {
  "comet_paths": [
   [
    "db4861d2/Get Started.ipynb",
    1569537646883
   ],
   [
    "6f78abed/Get Started.ipynb",
    1569608441749
   ]
  ],
  "comet_tracking": true,
  "kernelspec": {
   "display_name": "Python 3",
   "language": "python",
   "name": "python3"
  },
  "language_info": {
   "codemirror_mode": {
    "name": "ipython",
    "version": 3
   },
   "file_extension": ".py",
   "mimetype": "text/x-python",
   "name": "python",
   "nbconvert_exporter": "python",
   "pygments_lexer": "ipython3",
   "version": "3.7.3"
  }
 },
 "nbformat": 4,
 "nbformat_minor": 2
}
